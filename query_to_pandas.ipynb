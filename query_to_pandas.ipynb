{
 "cells": [
  {
   "cell_type": "markdown",
   "id": "6165b144",
   "metadata": {},
   "source": [
    "# Query em banco de dados postgres\n"
   ]
  },
  {
   "cell_type": "markdown",
   "id": "7e76f56e",
   "metadata": {},
   "source": [
    "Esse Notebook tem como objetivo criar dataframes a partir de consultas SQL em banco de dados postgresSQL\n",
    "\n",
    "A criação segue da seguinte forma:\n",
    "\n",
    "\n",
    "\n"
   ]
  },
  {
   "cell_type": "markdown",
   "id": "d0926131",
   "metadata": {},
   "source": [
    "## Importando bibliotecas"
   ]
  },
  {
   "cell_type": "code",
   "execution_count": 70,
   "id": "3acf7c7a",
   "metadata": {},
   "outputs": [],
   "source": [
    "import psycopg2\n",
    "import pandas as pd"
   ]
  },
  {
   "cell_type": "markdown",
   "id": "79428d50",
   "metadata": {},
   "source": [
    "## Conectando com o banco de dados e tranformando a query em Dataframe"
   ]
  },
  {
   "cell_type": "markdown",
   "id": "380df99c",
   "metadata": {},
   "source": [
    "### Dados para conexão com o banco"
   ]
  },
  {
   "cell_type": "code",
   "execution_count": 71,
   "id": "3cb37ed1",
   "metadata": {},
   "outputs": [],
   "source": [
    "dados_conexao = {\n",
    "    \"host\"      : \"10.177.51.227\",\n",
    "    \"database\"  : \"tjsc\",\n",
    "    \"user\"      : \"postgres\",\n",
    "    \"password\"  : \"postgres\"\n",
    "}"
   ]
  },
  {
   "cell_type": "markdown",
   "id": "323c017b",
   "metadata": {},
   "source": [
    "### Função de conexao com o banco\n"
   ]
  },
  {
   "cell_type": "code",
   "execution_count": 72,
   "id": "af49c640",
   "metadata": {},
   "outputs": [],
   "source": [
    "def connect(dados_conexao):\n",
    "    conn = None\n",
    "    try:\n",
    "        # Conecta com o PostgreSQL\n",
    "        print('conectando com o Postgres database...')\n",
    "        conn = psycopg2.connect(**dados_conexao)\n",
    "    except (Exception, psycopg2.DatabaseError) as error:\n",
    "        print(error)\n",
    "        sys.exit(1) \n",
    "    print(\"Conectado com susesso\")\n",
    "    return conn"
   ]
  },
  {
   "cell_type": "markdown",
   "id": "90abbc9c",
   "metadata": {},
   "source": [
    "### Função que transfroma a query em um dataframe pandas"
   ]
  },
  {
   "cell_type": "code",
   "execution_count": 73,
   "id": "048d69d6",
   "metadata": {},
   "outputs": [],
   "source": [
    "def postgresql_to_dataframe(conn, select_query, column_names):\n",
    "   \n",
    "    #Tranform a SELECT query into a pandas dataframe\n",
    "    \n",
    "    cursor = conn.cursor()\n",
    "    try:\n",
    "        cursor.execute(select_query)\n",
    "    except (Exception, psycopg2.DatabaseError) as error:\n",
    "        print(\"Error: %s\" % error)\n",
    "        cursor.close()\n",
    "        return 1\n",
    "    \n",
    "    # Naturally we get a list of tupples\n",
    "    tupples = cursor.fetchall()\n",
    "    cursor.close()\n",
    "    \n",
    "    # We just need to turn it into a pandas dataframe\n",
    "    df = pd.DataFrame(tupples, columns=column_names)\n",
    "    return df"
   ]
  },
  {
   "cell_type": "markdown",
   "id": "34627db0",
   "metadata": {},
   "source": [
    "## Exemplo"
   ]
  },
  {
   "cell_type": "markdown",
   "id": "3b168344",
   "metadata": {},
   "source": [
    "### Nome das colunas do Dataframe"
   ]
  },
  {
   "cell_type": "code",
   "execution_count": 74,
   "id": "e7ca966a",
   "metadata": {},
   "outputs": [],
   "source": [
    "nome_colunas = [\"Cod\",\"Descrição\"]"
   ]
  },
  {
   "cell_type": "markdown",
   "id": "15712140",
   "metadata": {},
   "source": [
    "### Query"
   ]
  },
  {
   "cell_type": "code",
   "execution_count": 75,
   "id": "6a698db8",
   "metadata": {},
   "outputs": [],
   "source": [
    "query = 'SELECT * from dw_tjsc_unificado_2g_v2.dim_competencia limit 50;'"
   ]
  },
  {
   "cell_type": "code",
   "execution_count": 76,
   "id": "9d32049a",
   "metadata": {},
   "outputs": [
    {
     "name": "stdout",
     "output_type": "stream",
     "text": [
      "conectando com o Postgres database...\n",
      "Conectado com susesso\n"
     ]
    }
   ],
   "source": [
    "# Connect to the database\n",
    "conn = connect(dados_conexao)\n",
    "df = postgresql_to_dataframe(conn, query, nome_colunas)\n"
   ]
  },
  {
   "cell_type": "code",
   "execution_count": 83,
   "id": "8dd3f3cd",
   "metadata": {},
   "outputs": [
    {
     "data": {
      "text/html": [
       "<div>\n",
       "<style scoped>\n",
       "    .dataframe tbody tr th:only-of-type {\n",
       "        vertical-align: middle;\n",
       "    }\n",
       "\n",
       "    .dataframe tbody tr th {\n",
       "        vertical-align: top;\n",
       "    }\n",
       "\n",
       "    .dataframe thead th {\n",
       "        text-align: right;\n",
       "    }\n",
       "</style>\n",
       "<table border=\"1\" class=\"dataframe\">\n",
       "  <thead>\n",
       "    <tr style=\"text-align: right;\">\n",
       "      <th></th>\n",
       "      <th>Cod</th>\n",
       "      <th>Descrição</th>\n",
       "    </tr>\n",
       "  </thead>\n",
       "  <tbody>\n",
       "    <tr>\n",
       "      <th>0</th>\n",
       "      <td>0</td>\n",
       "      <td>Órgão Especial</td>\n",
       "    </tr>\n",
       "    <tr>\n",
       "      <th>1</th>\n",
       "      <td>1</td>\n",
       "      <td>Recursos Delegados</td>\n",
       "    </tr>\n",
       "    <tr>\n",
       "      <th>2</th>\n",
       "      <td>2</td>\n",
       "      <td>Presidência</td>\n",
       "    </tr>\n",
       "    <tr>\n",
       "      <th>3</th>\n",
       "      <td>3</td>\n",
       "      <td>1ª Vice Presidência</td>\n",
       "    </tr>\n",
       "    <tr>\n",
       "      <th>4</th>\n",
       "      <td>4</td>\n",
       "      <td>2ª Vice Presidência</td>\n",
       "    </tr>\n",
       "  </tbody>\n",
       "</table>\n",
       "</div>"
      ],
      "text/plain": [
       "  Cod            Descrição\n",
       "0   0       Órgão Especial\n",
       "1   1   Recursos Delegados\n",
       "2   2          Presidência\n",
       "3   3  1ª Vice Presidência\n",
       "4   4  2ª Vice Presidência"
      ]
     },
     "execution_count": 83,
     "metadata": {},
     "output_type": "execute_result"
    }
   ],
   "source": [
    "df.head()"
   ]
  },
  {
   "cell_type": "markdown",
   "id": "a831a065",
   "metadata": {},
   "source": [
    "### Convertendo um dataframe para excel"
   ]
  },
  {
   "cell_type": "code",
   "execution_count": 78,
   "id": "2df7bb06",
   "metadata": {},
   "outputs": [],
   "source": [
    "df.to_excel('output.xlsx',index = False)"
   ]
  },
  {
   "cell_type": "code",
   "execution_count": 69,
   "id": "3956b45f",
   "metadata": {
    "scrolled": true
   },
   "outputs": [],
   "source": [
    "## Converter datas\n",
    "\n",
    "###df.Data = pd.to_datetime(df.Data).dt.strftime('%d/%m/%Y')\n"
   ]
  }
 ],
 "metadata": {
  "kernelspec": {
   "display_name": "Python 3 (ipykernel)",
   "language": "python",
   "name": "python3"
  },
  "language_info": {
   "codemirror_mode": {
    "name": "ipython",
    "version": 3
   },
   "file_extension": ".py",
   "mimetype": "text/x-python",
   "name": "python",
   "nbconvert_exporter": "python",
   "pygments_lexer": "ipython3",
   "version": "3.8.10"
  }
 },
 "nbformat": 4,
 "nbformat_minor": 5
}
